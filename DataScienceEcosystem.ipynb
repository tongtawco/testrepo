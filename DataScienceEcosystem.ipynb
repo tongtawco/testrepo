{
 "cells": [
  {
   "cell_type": "markdown",
   "id": "4bbfcd33-47ac-4b21-841c-466c13a0a397",
   "metadata": {
    "editable": true,
    "slideshow": {
     "slide_type": ""
    },
    "tags": []
   },
   "source": [
    "# Exercise 1 - Create a new Jupyter notebook called DataScienceEcosystem.ipynb"
   ]
  },
  {
   "cell_type": "markdown",
   "id": "b4811730-668c-4d1f-b82d-85895f3dbf34",
   "metadata": {
    "editable": true,
    "slideshow": {
     "slide_type": ""
    },
    "tags": []
   },
   "source": [
    "# Exercise 2 - Create markdown cell with title of the notebook, Data Science Tools\n",
    "# and Ecosystem using H1 style heading."
   ]
  },
  {
   "cell_type": "markdown",
   "id": "a0cf8e7c-4363-4cb9-aa7a-adda2b3d3e35",
   "metadata": {},
   "source": [
    "# Exercise 3 - Create a markdown cell for an introduction\n",
    "# In this notebook, Data Science Tools and Ecosystem are summarized."
   ]
  },
  {
   "cell_type": "markdown",
   "id": "871b5071-f039-4fba-ba53-c047a17af8d7",
   "metadata": {},
   "source": [
    "# Exercise 4 - Create a markdown cell to list data science languages\n",
    "# Some of the poplular languages that Data Scientists use are:\n",
    "# 1. Python\n",
    "# 2. R\n",
    "# 3. SQL\n",
    "# 4. Java\n",
    "# 5. Scala\n",
    "# 6. Julia\n",
    "# 7. JavaScript\n",
    "# 8. C/C++\n",
    "# 9. MATLAB\n",
    "# 10. SAS"
   ]
  },
  {
   "cell_type": "markdown",
   "id": "ec5078ca-a084-4c34-8051-729e7e82191b",
   "metadata": {},
   "source": [
    "# Exercise 5 - Create a markdown cell to list data science libraries\n",
    "# Some of the commonly used libraries used by Data Scientists include:\n",
    "# 1. NumPy\n",
    "# 2. Pandas\n",
    "# 3. SciPy"
   ]
  },
  {
   "cell_type": "markdown",
   "id": "0126d649-fd64-4eb3-acad-1d25765bcea1",
   "metadata": {},
   "source": [
    "# Exercise 6 - Create a markdown cell with a table of Data Science tools\n",
    "|Data Science Tools|\n",
    "|------------------|\n",
    "|Jupyter Notebooks|\n",
    "|KNIME Analytics Platform|\n",
    "|GIT and GITHUB|\n",
    "|APACHE AIRFLOW|\n",
    "\n"
   ]
  },
  {
   "cell_type": "markdown",
   "id": "c98eeac0-31e2-4f88-a1eb-5fd5afb848d7",
   "metadata": {
    "editable": true,
    "slideshow": {
     "slide_type": ""
    },
    "tags": []
   },
   "source": [
    "# Exercise 7 - Create a markdown cell introducing artithmetic expression examples\n",
    "# in H3 heading\n",
    "### Addition 2 + 3\n",
    "### Subtraction 5 -2\n",
    "### Multiplication 3 * 6\n",
    "### Division 10 / 3\n",
    "### Modulo 7 % 2\n",
    "### Exponentiation 2 ** 4"
   ]
  },
  {
   "cell_type": "code",
   "execution_count": 1,
   "id": "5c2f7cac-d5f1-4525-abfd-166373be95b0",
   "metadata": {},
   "outputs": [
    {
     "data": {
      "text/plain": [
       "17"
      ]
     },
     "execution_count": 1,
     "metadata": {},
     "output_type": "execute_result"
    }
   ],
   "source": [
    "# Exercise 8 - Create a code cell to multiply and add numbers (3*4)+5\n",
    "(3*4)+5\n"
   ]
  },
  {
   "cell_type": "code",
   "execution_count": 2,
   "id": "5f961a4f-510d-4cd1-9f02-87f31272e89b",
   "metadata": {},
   "outputs": [
    {
     "data": {
      "text/plain": [
       "3"
      ]
     },
     "execution_count": 2,
     "metadata": {},
     "output_type": "execute_result"
    }
   ],
   "source": [
    "# Exercise 9- Create a code cell to convert minutes to hours\n",
    "# This will convert 200 minutes to hours by diving by 60\n",
    "200 // 60"
   ]
  },
  {
   "cell_type": "markdown",
   "id": "9c34cb2a-75e9-4427-84b2-69cd04d2f591",
   "metadata": {},
   "source": [
    "# Exercise 10 - Insert a markdown cell to list Objectives\n",
    "# Objectives:\n",
    "- List popular languages for Data Science\n",
    "- List commonly used libraries, APIs, Datasets and Models\n",
    "- Hand-son use of Jupyter Notebooks and JupyterLab\n",
    "- Intro to RStudio and GitHub"
   ]
  },
  {
   "cell_type": "code",
   "execution_count": null,
   "id": "c3de31be-a246-4e1d-9d9e-4bdcf27bef22",
   "metadata": {},
   "outputs": [],
   "source": []
  },
  {
   "cell_type": "code",
   "execution_count": null,
   "id": "407d61ba-3fde-4454-8fa7-8576a520d982",
   "metadata": {},
   "outputs": [],
   "source": []
  },
  {
   "cell_type": "markdown",
   "id": "e15dfd65-8617-48b4-adeb-1c2f2dace9ef",
   "metadata": {},
   "source": [
    "# Exercise 11 - Create a markdown cell to indicate the Author's name\n",
    "## Terence Ongtawco - Author"
   ]
  },
  {
   "cell_type": "code",
   "execution_count": null,
   "id": "0c4cade8-eac3-49dc-9a3b-fa92296e3105",
   "metadata": {},
   "outputs": [],
   "source": []
  },
  {
   "cell_type": "markdown",
   "id": "0ebd4fb6-1651-45d0-9bcf-88cb23b92bef",
   "metadata": {},
   "source": [
    "# Exercise 12 - Share your notebook through GitHub by uploading your notebook to GitHub\n",
    "# GitHub repo link:  \n"
   ]
  },
  {
   "cell_type": "code",
   "execution_count": null,
   "id": "0ca5ba2e-08b2-4a84-ba5f-003f3cb2bfc7",
   "metadata": {},
   "outputs": [],
   "source": []
  }
 ],
 "metadata": {
  "kernelspec": {
   "display_name": "Python 3 (ipykernel)",
   "language": "python",
   "name": "python3"
  },
  "language_info": {
   "codemirror_mode": {
    "name": "ipython",
    "version": 3
   },
   "file_extension": ".py",
   "mimetype": "text/x-python",
   "name": "python",
   "nbconvert_exporter": "python",
   "pygments_lexer": "ipython3",
   "version": "3.12.8"
  }
 },
 "nbformat": 4,
 "nbformat_minor": 5
}
